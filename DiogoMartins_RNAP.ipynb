{
 "cells": [
  {
   "cell_type": "markdown",
   "metadata": {
    "id": "K8CDQUj8yqpq"
   },
   "source": [
    "## MBA em Ciência de Dados\n",
    "# Redes Neurais e Aprendizado Profundo\n",
    "\n",
    "## <span style=\"color:darkred\">Avaliação Final - 2024 : Enuncaido</span>\n",
    "\n",
    "Moacir Antonelli Ponti\n",
    "\n",
    "CeMEAI - ICMC/USP São Carlos\n",
    "\n",
    "---"
   ]
  },
  {
   "cell_type": "markdown",
   "metadata": {
    "id": "F3wP5kcQVYj5"
   },
   "source": [
    "Nessa avaliação será utilizado o dataset `imdb-reviews-pt-br.csv` que contém avaliações de filmes realizadas no site IMDB, com textos em português e em inglês. O alvo do dataset é a coluna `sentiment` que contém o sentimento relacionado à avaliação: positivo ou negativo.\n",
    "\n",
    "Vamos explorar um sentence embedding pré-treinado para multiplos idiomas, e avaliar redes neurais comparando-as com relação aos textos em inglês e português.\n",
    "\n",
    "As tarefas a realizar são as seguintes:\n",
    "\n",
    "Preparação:\n",
    "1. **Instalar o pacote** `sentence_transformers` e **carregar o modelo** 'stsb-xlm-r-multilingual' para geração de sentence embeddings, conforme mostrado no código abaixo.\n",
    "2. **Carregar a base de dados** e obter uma amostra de 12 mil linhas (use o método `sample` do dataframe pandas).\n",
    "3. **Gerar os embeddings** usando o método encode, para os textos em português e em inglês. Ver https://www.sbert.net/examples/applications/computing-embeddings/README.html para mais detalhes. OBS: pode demorar um pouco\n",
    "4. **Separar dados** 75% para treinamento, 25% para teste usando `train_test_split`, sendo a mesma partição para ingles e portugues.\n",
    "\n",
    "Modelos:\n",
    "1.  (1,0 pt) **Modelo A**: projete e treine uma rede neural profunda densa, utilizando como entrada os embeddings pré-treinados dos dados em **portugues** para análise de sentimento (classificação binária).<br>\n",
    "    * A arquitetura deve ter portanto as seguintes camadas:\n",
    "        * entrada\n",
    "        * normalização em batch\n",
    "        * densa 768 neurônios, relu\n",
    "        * densa 512 neurônios, relu\n",
    "        * densa 256 neurônios, ativação linear\n",
    "        * normalização em batch\n",
    "        * ativação relu\n",
    "        * dropout 0.375\n",
    "        * densa 1 neurônio, sigmoide\n",
    "    * Utilizar Adam com taxa de aprendizado inicial de 0.0007 e com decaimento em todas as épocas exponencial a -0.09\n",
    "    * Treinar com perda entropia cruzada por 15 épocas com batch size 20\n",
    "    * Compute como métricas, além da perda, a área sob a curva ROC (AUC ROC) e a Acurácia Binária (ver https://www.tensorflow.org/api_docs/python/tf/keras/metrics)<br><br>\n",
    "\n",
    "2.  (1,0 pt) **Modelo B**: projete e treine uma rede neural profunda densa, utilizando como entrada os *textos tokenizados* em **português** para análise de sentimento (classificação binária).<br>\n",
    "    * A arquitetura deve ter portanto as seguintes camadas:\n",
    "        * entrada\n",
    "        * camada embedding com max_words=5000 e dimensão do embedding de tamanho 386\n",
    "        * camada convolucional 1d com 64 neuronios de tamanho 2 e padding='same', ativação relu\n",
    "        * camada LSTM 512 neurônios, sem especificar ativação (manter a default)\n",
    "        * densa 256 neurônios, ativação linear\n",
    "        * normalização em batch\n",
    "        * ativação relu\n",
    "        * dropout 0.375\n",
    "        * densa 1 neurônio, sigmoide\n",
    "    * Utilizar os mesmos hiper-parâmetros de otimização, treinamento e métricas do modelo anterior<br><br>\n",
    "\n",
    "\n",
    "3. (2,0 pt) **Avalie as rede neurais de classificação** (Modelos A e B):\n",
    "    * Exiba o gráfico das métricas ROC AUC e Accuracy calculadas no treinamento ao longo das épocas para o modelos A e B\n",
    "    * Calcule e exiba as métricas no conjunto de teste usando o cada modelo</br>\n",
    "    3.1 (2,0 pt) **Conclua** sobre os resultados obtidos nos seus experimentos, conforme descrito abaixo no notebook.</br></br>\n",
    "\n",
    "4. (3,0 pt) **Fine-tuning** dos Modelo B com os dados em inglês, treinando por 15 épocas e batch_size=20, com Adam e taxa de aprendizado 0.00001 (sem decaimento):\n",
    "    1. Modelo Fine Tuning versão 1: realize ajuste fino, congelando a camada de embeddings,\n",
    "    2. Modelo Fine Tuning versão 2: realize ajuste fino, congelando a camada convolucional e a camada LSTM.\n",
    "        \n",
    "    * exibir a função de custo ao longo das épocas de treinamento para cada modelo,\n",
    "    * calcular e exibir métricas dos modelos após fine-tuning usando o conjunto de teste em ingles (textos tokenizados)</br>\n",
    "    4.1 (1,0 pt) **Conclua** sobre os resultados obtidos nos seus experimentos, conforme descrito abaixo no notebook.</br></br>\n",
    "\n",
    "5. **Bônus:** (+1 ponto extra)\n",
    "    * *Análise visual das características*: visualize scatterplots com os 2 dimensões obtidos com o método tSNE as classes dos exemplos atribuídas com cores ou marcadores diferentes:\n",
    "        1. scatterplot com projeção tSNE do conjunto de teste referente ao embedding pré-treinado em português,\n",
    "        1. scatterplot com projeção tSNE da última camada densa de 256 dimensões extraído do conjunto de teste tokenizado em português referente ao *Modelo B*,\n",
    "        1. scatterplot com projeção tSNE da última camada densa de 256 dimensões extraído do conjunto de teste em inglês (tokens) referente ao *Modelo B* após ajuste fino versão 2.\n",
    "    * Escreva comentários com suas conclusões sobre a análise visual."
   ]
  },
  {
   "cell_type": "markdown",
   "metadata": {
    "id": "zsiVO6PeFer4"
   },
   "source": [
    "## Preparação\n",
    "\n",
    "### 1. Carregar bibliotecas e modelo pré-treinado SentenceTransformer"
   ]
  },
  {
   "cell_type": "code",
   "execution_count": 1,
   "metadata": {
    "colab": {
     "base_uri": "https://localhost:8080/"
    },
    "executionInfo": {
     "elapsed": 8737,
     "status": "ok",
     "timestamp": 1731683881654,
     "user": {
      "displayName": "Moacir Antonelli Ponti",
      "userId": "09722981635546271521"
     },
     "user_tz": 180
    },
    "id": "UOJzPpWiVYj7",
    "outputId": "3115eebb-88da-48e6-b72c-203375c4c11f",
    "scrolled": false
   },
   "outputs": [],
   "source": [
    "import random\n",
    "import numpy as np\n",
    "import pandas as pd\n",
    "import matplotlib.pyplot as plt\n",
    "import tensorflow as tf\n",
    "\n",
    "from numpy.random import seed\n",
    "\n",
    "from tensorflow.random import set_seed\n",
    "import tensorflow.keras as keras\n",
    "from tensorflow.keras.preprocessing.text import Tokenizer\n",
    "from tensorflow.keras.preprocessing.sequence import pad_sequences\n",
    "from tensorflow.keras.models import Sequential\n",
    "\n",
    "from sklearn.model_selection import train_test_split\n",
    "\n",
    "from sentence_transformers import SentenceTransformer"
   ]
  },
  {
   "cell_type": "markdown",
   "metadata": {
    "id": "n9DdQn1wK9_S"
   },
   "source": [
    "#### Verifique a versão do Tensorflow, recomendamos a 2.17.\n",
    "OBS: o código pode ter problemas com a versão 2.18"
   ]
  },
  {
   "cell_type": "code",
   "execution_count": 2,
   "metadata": {
    "colab": {
     "base_uri": "https://localhost:8080/"
    },
    "executionInfo": {
     "elapsed": 453,
     "status": "ok",
     "timestamp": 1731683934427,
     "user": {
      "displayName": "Moacir Antonelli Ponti",
      "userId": "09722981635546271521"
     },
     "user_tz": 180
    },
    "id": "NneTTayuQNqZ",
    "outputId": "1fd78e43-4c2a-4e7d-ddfd-dcb678b41066"
   },
   "outputs": [
    {
     "name": "stdout",
     "output_type": "stream",
     "text": [
      "2.18.0\n"
     ]
    }
   ],
   "source": [
    "print(tf.__version__)"
   ]
  },
  {
   "cell_type": "code",
   "execution_count": 3,
   "metadata": {
    "colab": {
     "base_uri": "https://localhost:8080/"
    },
    "executionInfo": {
     "elapsed": 6590,
     "status": "ok",
     "timestamp": 1731683942613,
     "user": {
      "displayName": "Moacir Antonelli Ponti",
      "userId": "09722981635546271521"
     },
     "user_tz": 180
    },
    "id": "5ZFOaL2AFer7",
    "outputId": "afa3dd84-b18f-45fc-d51a-e3f0fa4a70d1"
   },
   "outputs": [],
   "source": [
    "# baixar modelo codificador de setenças\n",
    "model = SentenceTransformer('stsb-xlm-r-multilingual')"
   ]
  },
  {
   "cell_type": "markdown",
   "metadata": {
    "id": "7LbiwiojFer7"
   },
   "source": [
    "### 2. Carregar base de dados e obter amostra"
   ]
  },
  {
   "cell_type": "code",
   "execution_count": 4,
   "metadata": {
    "colab": {
     "base_uri": "https://localhost:8080/"
    },
    "executionInfo": {
     "elapsed": 10563,
     "status": "ok",
     "timestamp": 1731683953173,
     "user": {
      "displayName": "Moacir Antonelli Ponti",
      "userId": "09722981635546271521"
     },
     "user_tz": 180
    },
    "id": "or0t4PXkVYj_",
    "outputId": "8ea057cf-faad-484c-fbf8-94151e3a2a74",
    "scrolled": true
   },
   "outputs": [
    {
     "name": "stdout",
     "output_type": "stream",
     "text": [
      "zsh:1: command not found: gdown\n"
     ]
    }
   ],
   "source": [
    "!gdown 1ltAAPcaPD1epgs-F9i-nhaF350DPPrGK\n",
    "\n",
    "# ler base de dados\n",
    "df_orig = pd.read_csv(\"imdb-reviews-pt-br.csv\", delimiter=',', engine='python')"
   ]
  },
  {
   "cell_type": "code",
   "execution_count": 5,
   "metadata": {
    "colab": {
     "base_uri": "https://localhost:8080/",
     "height": 198
    },
    "executionInfo": {
     "elapsed": 23,
     "status": "ok",
     "timestamp": 1731683953176,
     "user": {
      "displayName": "Moacir Antonelli Ponti",
      "userId": "09722981635546271521"
     },
     "user_tz": 180
    },
    "id": "C_U247PSFer8",
    "outputId": "bc4d5279-5ee3-4e36-85f0-688fc0637381"
   },
   "outputs": [
    {
     "data": {
      "text/plain": [
       "sentiment\n",
       "pos    6027\n",
       "neg    5973\n",
       "Name: count, dtype: int64"
      ]
     },
     "execution_count": 5,
     "metadata": {},
     "output_type": "execute_result"
    }
   ],
   "source": [
    "# obter amostra\n",
    "df = df_orig.sample(12000).reset_index(drop=True)\n",
    "df.sentiment.value_counts()"
   ]
  },
  {
   "cell_type": "markdown",
   "metadata": {
    "id": "0F3SpjqQVYkA"
   },
   "source": [
    "### 3. Separar dados em treinamento e teste e preparar rótulos\n",
    "\n",
    "Iremos também verificar o tamanho das strings em cada instancia, para considerar apenas um número de caracteres proporcional ao percentil 80."
   ]
  },
  {
   "cell_type": "code",
   "execution_count": 6,
   "metadata": {
    "colab": {
     "base_uri": "https://localhost:8080/"
    },
    "executionInfo": {
     "elapsed": 21,
     "status": "ok",
     "timestamp": 1731683953178,
     "user": {
      "displayName": "Moacir Antonelli Ponti",
      "userId": "09722981635546271521"
     },
     "user_tz": 180
    },
    "id": "hEkwrMr2Fer-",
    "outputId": "04ccc5b2-f9d1-4c5f-f67f-731c20e3daa0"
   },
   "outputs": [
    {
     "data": {
      "text/plain": [
       "0"
      ]
     },
     "execution_count": 6,
     "metadata": {},
     "output_type": "execute_result"
    }
   ],
   "source": [
    "# rotulos\n",
    "y = np.array((df.sentiment=='pos').astype(int))\n",
    "\n",
    "X_train_txt_en, X_test_txt_en, y_train_en, y_test_en= train_test_split(df.text_en.values, y, test_size=0.25, random_state=51)\n",
    "X_train_txt_pt, X_test_txt_pt, y_train_pt, y_test_pt= train_test_split(df.text_pt.values, y, test_size=0.25, random_state=51)\n",
    "\n",
    "sum(y_train_en!=y_train_pt)"
   ]
  },
  {
   "cell_type": "code",
   "execution_count": 7,
   "metadata": {
    "colab": {
     "base_uri": "https://localhost:8080/"
    },
    "executionInfo": {
     "elapsed": 17,
     "status": "ok",
     "timestamp": 1731683953178,
     "user": {
      "displayName": "Moacir Antonelli Ponti",
      "userId": "09722981635546271521"
     },
     "user_tz": 180
    },
    "id": "p3EI5kKN4FOu",
    "outputId": "4a2623bb-0255-4b34-8889-929bb4961da9"
   },
   "outputs": [
    {
     "name": "stdout",
     "output_type": "stream",
     "text": [
      "percentil 80.0: 309.0\n",
      "percentil 95.0: 546.0\n",
      "Maximo: 929\n"
     ]
    }
   ],
   "source": [
    "# tamanhos das strings - usaremos o percentil 80 como tamanho da entrada máximo\n",
    "num_words = df.text_pt.apply(lambda x: len(str(x).split()))\n",
    "max_length = num_words.max()\n",
    "percentile_80 = num_words.quantile(0.80)\n",
    "percentile_95 = num_words.quantile(0.95)\n",
    "\n",
    "print(f\"percentil 80.0: {percentile_80}\")\n",
    "print(f\"percentil 95.0: {percentile_95}\")\n",
    "print(f\"Maximo: {max_length}\")"
   ]
  },
  {
   "cell_type": "markdown",
   "metadata": {
    "id": "S68Sms9jFer9"
   },
   "source": [
    "### 4. Geração dos embeddings\n",
    "\n",
    "Utilizar o encoder carregado para obter os embeddings para treinamento e teste em Português e Inglês, separadamente.\n",
    "\n",
    "Exemplo de uso: `model.encode(texto, batch_size=16, show_progress_bar=True)`"
   ]
  },
  {
   "cell_type": "code",
   "execution_count": 8,
   "metadata": {
    "id": "qQnFf1IGFer9"
   },
   "outputs": [
    {
     "data": {
      "application/vnd.jupyter.widget-view+json": {
       "model_id": "a908a881aae542df82682f65cc41340f",
       "version_major": 2,
       "version_minor": 0
      },
      "text/plain": [
       "Batches:   0%|          | 0/563 [00:00<?, ?it/s]"
      ]
     },
     "metadata": {},
     "output_type": "display_data"
    },
    {
     "data": {
      "application/vnd.jupyter.widget-view+json": {
       "model_id": "f29a77832d5e41feb1a8f7f17ce50260",
       "version_major": 2,
       "version_minor": 0
      },
      "text/plain": [
       "Batches:   0%|          | 0/563 [00:00<?, ?it/s]"
      ]
     },
     "metadata": {},
     "output_type": "display_data"
    },
    {
     "data": {
      "application/vnd.jupyter.widget-view+json": {
       "model_id": "e7a95dc57d814d99b91cb076d2c4842c",
       "version_major": 2,
       "version_minor": 0
      },
      "text/plain": [
       "Batches:   0%|          | 0/188 [00:00<?, ?it/s]"
      ]
     },
     "metadata": {},
     "output_type": "display_data"
    },
    {
     "data": {
      "application/vnd.jupyter.widget-view+json": {
       "model_id": "06ee3270888d49e7bb86ecfcd60d93b9",
       "version_major": 2,
       "version_minor": 0
      },
      "text/plain": [
       "Batches:   0%|          | 0/563 [00:00<?, ?it/s]"
      ]
     },
     "metadata": {},
     "output_type": "display_data"
    },
    {
     "data": {
      "application/vnd.jupyter.widget-view+json": {
       "model_id": "fb1ad2625ee34bd1bffa57b851a1c477",
       "version_major": 2,
       "version_minor": 0
      },
      "text/plain": [
       "Batches:   0%|          | 0/188 [00:00<?, ?it/s]"
      ]
     },
     "metadata": {},
     "output_type": "display_data"
    },
    {
     "name": "stdout",
     "output_type": "stream",
     "text": [
      "Dimensões dos embeddings gerados:\n",
      "X_train_en_embeddings: (9000, 768)\n",
      "X_test_en_embeddings: (3000, 768)\n",
      "X_train_pt_embeddings: (9000, 768)\n",
      "X_test_pt_embeddings: (3000, 768)\n"
     ]
    }
   ],
   "source": [
    "X_train_en = model.encode(X_train_txt_en, batch_size=16, show_progress_bar=True)\n",
    "# ...\n",
    "# Obter embeddings para textos em inglês (treinamento e teste)\n",
    "X_train_en_embeddings = model.encode(X_train_txt_en, batch_size=16, show_progress_bar=True)\n",
    "X_test_en_embeddings = model.encode(X_test_txt_en, batch_size=16, show_progress_bar=True)\n",
    "\n",
    "# Obter embeddings para textos em português (treinamento e teste)\n",
    "X_train_pt_embeddings = model.encode(X_train_txt_pt, batch_size=16, show_progress_bar=True)\n",
    "X_test_pt_embeddings = model.encode(X_test_txt_pt, batch_size=16, show_progress_bar=True)\n",
    "\n",
    "# Exibindo as dimensões dos embeddings gerados\n",
    "print(\"Dimensões dos embeddings gerados:\")\n",
    "print(f\"X_train_en_embeddings: {X_train_en_embeddings.shape}\")\n",
    "print(f\"X_test_en_embeddings: {X_test_en_embeddings.shape}\")\n",
    "print(f\"X_train_pt_embeddings: {X_train_pt_embeddings.shape}\")\n",
    "print(f\"X_test_pt_embeddings: {X_test_pt_embeddings.shape}\")"
   ]
  },
  {
   "cell_type": "markdown",
   "metadata": {
    "id": "kaAMk9LR1aJS"
   },
   "source": [
    "5. Tokenização do texto\n",
    "\n",
    "Definiremos um número máximo de palavras e um tamanho máximo de sequência com base nos dados em Português, conforme abaixo."
   ]
  },
  {
   "cell_type": "code",
   "execution_count": 19,
   "metadata": {
    "id": "SGEKCXmE1Skp"
   },
   "outputs": [],
   "source": [
    "max_words = 5000  # Numero maximo de palavras\n",
    "max_sequence_length = int(percentile_80)  # Tamanho maximo da sequencia igual ao percentil 80\n",
    "\n",
    "tokenizer = Tokenizer(num_words=max_words)\n",
    "tokenizer.fit_on_texts(X_train_txt_pt)\n",
    "\n",
    "sequences_train = tokenizer.texts_to_sequences(X_train_txt_pt)\n",
    "sequences_test = tokenizer.texts_to_sequences(X_test_txt_pt)\n",
    "\n",
    "# realizar padding para igualar sentencas\n",
    "X_train_tok_pt = pad_sequences(sequences_train, maxlen=max_sequence_length)\n",
    "X_test_tok_pt = pad_sequences(sequences_test, maxlen=max_sequence_length)"
   ]
  },
  {
   "cell_type": "code",
   "execution_count": 20,
   "metadata": {
    "id": "PneKQJQYC0uR"
   },
   "outputs": [],
   "source": [
    "## realizar o mesmo procedimento para os textos em ingles\n",
    "# use os mesmos parametros de maximo de palavras e sequencia\n",
    "max_words = 5000  # Numero maximo de palavras\n",
    "max_sequence_length = int(percentile_80)  # Tamanho maximo da sequencia igual ao percentil 80\n",
    "\n",
    "tokenizer = Tokenizer(num_words=max_words)\n",
    "tokenizer.fit_on_texts(X_train_txt_en)\n",
    "\n",
    "sequences_train = tokenizer.texts_to_sequences(X_train_txt_en)\n",
    "sequences_test = tokenizer.texts_to_sequences(X_test_txt_en)\n",
    "\n",
    "# realizar padding para igualar sentencas\n",
    "X_train_tok_en = pad_sequences(sequences_train, maxlen=max_sequence_length)\n",
    "X_test_tok_en = pad_sequences(sequences_test, maxlen=max_sequence_length)"
   ]
  },
  {
   "cell_type": "markdown",
   "metadata": {
    "id": "bnzzkgSjVYkD"
   },
   "source": [
    "---\n",
    "\n",
    "## Tarefas\n",
    "\n",
    "Definimos os modelos e iniciamos as tarefas. O código abaixo é uma referência para auxiliar na resolução, complete/altere conforme necessário."
   ]
  },
  {
   "cell_type": "code",
   "execution_count": 11,
   "metadata": {
    "id": "x4d4QsxYFer_"
   },
   "outputs": [],
   "source": [
    "# DICA: use keras.layers.CAMADA para montar as arquiteturas\n",
    "\n",
    "# definir modelo A\n",
    "def model_A(input_dim):\n",
    "    input_data = keras.layers.Input(shape=(input_dim,))\n",
    "    # ...\n",
    "    output = keras.layers.Dense(1, activation='sigmoid')(x)\n",
    "    dnn = keras.models.Model(input_data, output)\n",
    "    return dnn"
   ]
  },
  {
   "cell_type": "code",
   "execution_count": 12,
   "metadata": {
    "id": "IVTJGVwa1fyY"
   },
   "outputs": [],
   "source": [
    "# definir modelo B\n",
    "def model_B(input_dim, max_words, embedding_dim=386, code_dim=256):\n",
    "    input_layer = keras.layers.Input(shape=(input_dim,))\n",
    "    embedding_layer = keras.layers.Embedding(max_words, embedding_dim, name='embedding')(input_layer)\n",
    "    # ...\n",
    "    output_layer = keras.layers.Dense(1, activation='sigmoid')(dropout_layer)\n",
    "    model = keras.models.Model(inputs=input_layer, outputs=output_layer)\n",
    "    return model"
   ]
  },
  {
   "cell_type": "code",
   "execution_count": 13,
   "metadata": {
    "id": "kwcMyVhMFer_"
   },
   "outputs": [],
   "source": [
    "epochs = 15\n",
    "batch_size = 20\n",
    "lrate = 0.0007"
   ]
  },
  {
   "cell_type": "markdown",
   "metadata": {
    "id": "C93QhIDLFesA"
   },
   "source": [
    "---\n",
    "\n",
    "### 1. (1,0 pt) Modelo A: classificador de sentimento em *portugues* usando embedding pré-treinado"
   ]
  },
  {
   "cell_type": "code",
   "execution_count": 21,
   "metadata": {
    "id": "7CSkZBFZVYkD"
   },
   "outputs": [
    {
     "name": "stdout",
     "output_type": "stream",
     "text": [
      "Epoch 1/15\n",
      "\u001b[1m450/450\u001b[0m \u001b[32m━━━━━━━━━━━━━━━━━━━━\u001b[0m\u001b[37m\u001b[0m \u001b[1m3s\u001b[0m 5ms/step - accuracy: 0.7319 - auc: 0.8050 - loss: 0.5685 - val_accuracy: 0.7853 - val_auc: 0.8687 - val_loss: 0.4602 - learning_rate: 6.3975e-04\n",
      "Epoch 2/15\n",
      "\u001b[1m450/450\u001b[0m \u001b[32m━━━━━━━━━━━━━━━━━━━━\u001b[0m\u001b[37m\u001b[0m \u001b[1m2s\u001b[0m 5ms/step - accuracy: 0.7899 - auc: 0.8724 - loss: 0.4518 - val_accuracy: 0.7913 - val_auc: 0.8748 - val_loss: 0.4579 - learning_rate: 5.8469e-04\n",
      "Epoch 3/15\n",
      "\u001b[1m450/450\u001b[0m \u001b[32m━━━━━━━━━━━━━━━━━━━━\u001b[0m\u001b[37m\u001b[0m \u001b[1m2s\u001b[0m 5ms/step - accuracy: 0.8137 - auc: 0.8983 - loss: 0.4046 - val_accuracy: 0.7953 - val_auc: 0.8751 - val_loss: 0.4694 - learning_rate: 5.3437e-04\n",
      "Epoch 4/15\n",
      "\u001b[1m450/450\u001b[0m \u001b[32m━━━━━━━━━━━━━━━━━━━━\u001b[0m\u001b[37m\u001b[0m \u001b[1m2s\u001b[0m 5ms/step - accuracy: 0.8458 - auc: 0.9245 - loss: 0.3515 - val_accuracy: 0.7820 - val_auc: 0.8667 - val_loss: 0.5026 - learning_rate: 4.8837e-04\n",
      "Epoch 5/15\n",
      "\u001b[1m450/450\u001b[0m \u001b[32m━━━━━━━━━━━━━━━━━━━━\u001b[0m\u001b[37m\u001b[0m \u001b[1m2s\u001b[0m 5ms/step - accuracy: 0.8816 - auc: 0.9523 - loss: 0.2819 - val_accuracy: 0.7803 - val_auc: 0.8578 - val_loss: 0.5684 - learning_rate: 4.4634e-04\n",
      "Epoch 6/15\n",
      "\u001b[1m450/450\u001b[0m \u001b[32m━━━━━━━━━━━━━━━━━━━━\u001b[0m\u001b[37m\u001b[0m \u001b[1m2s\u001b[0m 5ms/step - accuracy: 0.9219 - auc: 0.9778 - loss: 0.1972 - val_accuracy: 0.7650 - val_auc: 0.8443 - val_loss: 0.7391 - learning_rate: 4.0792e-04\n",
      "Epoch 7/15\n",
      "\u001b[1m450/450\u001b[0m \u001b[32m━━━━━━━━━━━━━━━━━━━━\u001b[0m\u001b[37m\u001b[0m \u001b[1m2s\u001b[0m 5ms/step - accuracy: 0.9529 - auc: 0.9907 - loss: 0.1302 - val_accuracy: 0.7607 - val_auc: 0.8397 - val_loss: 0.8123 - learning_rate: 3.7281e-04\n",
      "Epoch 8/15\n",
      "\u001b[1m450/450\u001b[0m \u001b[32m━━━━━━━━━━━━━━━━━━━━\u001b[0m\u001b[37m\u001b[0m \u001b[1m2s\u001b[0m 5ms/step - accuracy: 0.9568 - auc: 0.9929 - loss: 0.1114 - val_accuracy: 0.7613 - val_auc: 0.8383 - val_loss: 0.8816 - learning_rate: 3.4073e-04\n",
      "Epoch 9/15\n",
      "\u001b[1m450/450\u001b[0m \u001b[32m━━━━━━━━━━━━━━━━━━━━\u001b[0m\u001b[37m\u001b[0m \u001b[1m2s\u001b[0m 5ms/step - accuracy: 0.9710 - auc: 0.9960 - loss: 0.0802 - val_accuracy: 0.7827 - val_auc: 0.8515 - val_loss: 0.9195 - learning_rate: 3.1140e-04\n",
      "Epoch 10/15\n",
      "\u001b[1m450/450\u001b[0m \u001b[32m━━━━━━━━━━━━━━━━━━━━\u001b[0m\u001b[37m\u001b[0m \u001b[1m2s\u001b[0m 5ms/step - accuracy: 0.9803 - auc: 0.9978 - loss: 0.0601 - val_accuracy: 0.7807 - val_auc: 0.8458 - val_loss: 1.0292 - learning_rate: 2.8460e-04\n",
      "Epoch 11/15\n",
      "\u001b[1m450/450\u001b[0m \u001b[32m━━━━━━━━━━━━━━━━━━━━\u001b[0m\u001b[37m\u001b[0m \u001b[1m2s\u001b[0m 5ms/step - accuracy: 0.9902 - auc: 0.9988 - loss: 0.0371 - val_accuracy: 0.7920 - val_auc: 0.8552 - val_loss: 1.0622 - learning_rate: 2.6010e-04\n",
      "Epoch 12/15\n",
      "\u001b[1m450/450\u001b[0m \u001b[32m━━━━━━━━━━━━━━━━━━━━\u001b[0m\u001b[37m\u001b[0m \u001b[1m2s\u001b[0m 5ms/step - accuracy: 0.9939 - auc: 0.9998 - loss: 0.0231 - val_accuracy: 0.7903 - val_auc: 0.8553 - val_loss: 1.0740 - learning_rate: 2.3772e-04\n",
      "Epoch 13/15\n",
      "\u001b[1m450/450\u001b[0m \u001b[32m━━━━━━━━━━━━━━━━━━━━\u001b[0m\u001b[37m\u001b[0m \u001b[1m2s\u001b[0m 5ms/step - accuracy: 0.9979 - auc: 1.0000 - loss: 0.0109 - val_accuracy: 0.7797 - val_auc: 0.8399 - val_loss: 1.1948 - learning_rate: 2.1726e-04\n",
      "Epoch 14/15\n",
      "\u001b[1m450/450\u001b[0m \u001b[32m━━━━━━━━━━━━━━━━━━━━\u001b[0m\u001b[37m\u001b[0m \u001b[1m2s\u001b[0m 5ms/step - accuracy: 0.9978 - auc: 0.9998 - loss: 0.0120 - val_accuracy: 0.7953 - val_auc: 0.8480 - val_loss: 1.1662 - learning_rate: 1.9856e-04\n",
      "Epoch 15/15\n",
      "\u001b[1m450/450\u001b[0m \u001b[32m━━━━━━━━━━━━━━━━━━━━\u001b[0m\u001b[37m\u001b[0m \u001b[1m2s\u001b[0m 5ms/step - accuracy: 0.9993 - auc: 1.0000 - loss: 0.0052 - val_accuracy: 0.8000 - val_auc: 0.8471 - val_loss: 1.2406 - learning_rate: 1.8147e-04\n"
     ]
    }
   ],
   "source": [
    "seed(1)\n",
    "set_seed(2)\n",
    "\n",
    "def scheduler(epoch, lr):\n",
    "    return float(lr * tf.math.exp(-0.09))\n",
    "\n",
    "callbacklr = tf.keras.callbacks.LearningRateScheduler(scheduler)\n",
    "\n",
    "# instanciar, compilar e treinar modelo A\n",
    "\n",
    "np.random.seed(1)\n",
    "tf.random.set_seed(2)\n",
    "\n",
    "# Definir modelo A\n",
    "def model_A(input_dim):\n",
    "    input_data = keras.layers.Input(shape=(input_dim,))\n",
    "\n",
    "    # Camada de normalização em batch\n",
    "    x = keras.layers.BatchNormalization()(input_data)\n",
    "\n",
    "    # Camada densa 1: 768 neurônios, ativação ReLU\n",
    "    x = keras.layers.Dense(768, activation='relu')(x)\n",
    "\n",
    "    # Camada densa 2: 512 neurônios, ativação ReLU\n",
    "    x = keras.layers.Dense(512, activation='relu')(x)\n",
    "\n",
    "    # Camada densa intermediária: 256 neurônios, ativação linear\n",
    "    x = keras.layers.Dense(256, activation='linear')(x)\n",
    "\n",
    "    # Normalização em batch\n",
    "    x = keras.layers.BatchNormalization()(x)\n",
    "\n",
    "    # Ativação ReLU\n",
    "    x = keras.layers.Activation('relu')(x)\n",
    "\n",
    "    # Dropout\n",
    "    x = keras.layers.Dropout(0.375)(x)\n",
    "\n",
    "    # Camada de saída: 1 neurônio, ativação sigmoide\n",
    "    output = keras.layers.Dense(1, activation='sigmoid')(x)\n",
    "\n",
    "    # Criar o modelo\n",
    "    dnn = keras.models.Model(input_data, output)\n",
    "    return dnn\n",
    "\n",
    "# Inicializar modelo com dimensão de entrada\n",
    "input_dim = X_train_pt_embeddings.shape[1]\n",
    "modelA = model_A(input_dim)\n",
    "\n",
    "# Compilar modelo\n",
    "initial_lr = 0.0007\n",
    "optimizer = keras.optimizers.Adam(learning_rate=initial_lr)\n",
    "modelA.compile(\n",
    "    optimizer=optimizer,\n",
    "    loss='binary_crossentropy',\n",
    "    metrics=[keras.metrics.AUC(name=\"auc\"), keras.metrics.BinaryAccuracy(name=\"accuracy\")]\n",
    ")\n",
    "\n",
    "# Treinar o modelo\n",
    "historyA = modelA.fit(\n",
    "    X_train_pt_embeddings, y_train_pt,\n",
    "    validation_data=(X_test_pt_embeddings, y_test_pt),\n",
    "    epochs=15,\n",
    "    batch_size=20,\n",
    "    callbacks=[callbacklr]\n",
    ")"
   ]
  },
  {
   "cell_type": "markdown",
   "metadata": {
    "id": "T3Pk0IvUVYkI"
   },
   "source": [
    "---\n",
    "\n",
    "### 2. (1,0 pt) Modelo B: classificador de sentimento em *português* usando tokenizador e rede CNN+LSTM"
   ]
  },
  {
   "cell_type": "code",
   "execution_count": 22,
   "metadata": {
    "id": "wPq9MVqyVYkJ",
    "scrolled": true
   },
   "outputs": [],
   "source": [
    "seed(1)\n",
    "set_seed(2)\n",
    "\n",
    "# instanciar, compilar e treinar modelo B\n",
    "\n",
    "# Definir as seeds para reprodutibilidade\n",
    "np.random.seed(1)\n",
    "tf.random.set_seed(2)\n",
    "\n",
    "# Definir modelo B\n",
    "def model_B(input_dim, max_words, embedding_dim=386):\n",
    "    input_layer = keras.layers.Input(shape=(input_dim,))\n",
    "\n",
    "    # Camada de embedding\n",
    "    embedding_layer = keras.layers.Embedding(max_words, embedding_dim, name='embedding')(input_layer)\n",
    "\n",
    "    # Camada convolucional 1D\n",
    "    conv1d_layer = keras.layers.Conv1D(64, kernel_size=2, padding='same', activation='relu')(embedding_layer)\n",
    "\n",
    "    # Camada LSTM\n",
    "    lstm_layer = keras.layers.LSTM(512)(conv1d_layer)\n",
    "\n",
    "    # Camada densa intermediária\n",
    "    dense_layer = keras.layers.Dense(256, activation='linear')(lstm_layer)\n",
    "\n",
    "    # Normalização em batch\n",
    "    batch_norm_layer = keras.layers.BatchNormalization()(dense_layer)\n",
    "\n",
    "    # Ativação ReLU\n",
    "    relu_activation = keras.layers.Activation('relu')(batch_norm_layer)\n",
    "\n",
    "    # Dropout\n",
    "    dropout_layer = keras.layers.Dropout(0.375)(relu_activation)\n",
    "\n",
    "    # Camada de saída\n",
    "    output_layer = keras.layers.Dense(1, activation='sigmoid')(dropout_layer)\n",
    "\n",
    "    # Criar o modelo\n",
    "    model = keras.models.Model(inputs=input_layer, outputs=output_layer)\n",
    "    return model\n",
    "\n",
    "# Inicializar o modelo\n",
    "max_words = 5000\n",
    "embedding_dim = 386\n",
    "input_dim = 305 \n",
    "modelB = model_B(input_dim, max_words, embedding_dim)\n",
    "\n",
    "# Compilar o modelo\n",
    "initial_lr = 0.0007\n",
    "optimizer = keras.optimizers.Adam(learning_rate=initial_lr)\n",
    "modelB.compile(\n",
    "    optimizer=optimizer,\n",
    "    loss='binary_crossentropy',\n",
    "    metrics=[keras.metrics.AUC(name=\"auc\"), keras.metrics.BinaryAccuracy(name=\"accuracy\")]\n",
    ")\n",
    "\n",
    "# Definir o scheduler para ajuste de taxa de aprendizado\n",
    "def scheduler(epoch, lr):\n",
    "    return float(lr * tf.math.exp(-0.09))\n",
    "\n",
    "callbacklr = tf.keras.callbacks.LearningRateScheduler(scheduler)\n",
    "\n"
   ]
  },
  {
   "cell_type": "code",
   "execution_count": 23,
   "metadata": {},
   "outputs": [
    {
     "name": "stdout",
     "output_type": "stream",
     "text": [
      "Epoch 1/15\n"
     ]
    },
    {
     "ename": "ValueError",
     "evalue": "Input 0 of layer \"functional_5\" is incompatible with the layer: expected shape=(None, 305), found shape=(20, 309)",
     "output_type": "error",
     "traceback": [
      "\u001b[0;31m---------------------------------------------------------------------------\u001b[0m",
      "\u001b[0;31mValueError\u001b[0m                                Traceback (most recent call last)",
      "Cell \u001b[0;32mIn[23], line 2\u001b[0m\n\u001b[1;32m      1\u001b[0m \u001b[38;5;66;03m# Treinar o modelo\u001b[39;00m\n\u001b[0;32m----> 2\u001b[0m historyB \u001b[38;5;241m=\u001b[39m modelB\u001b[38;5;241m.\u001b[39mfit(\n\u001b[1;32m      3\u001b[0m     X_train_tok_pt, y_train_pt,  \n\u001b[1;32m      4\u001b[0m     validation_data\u001b[38;5;241m=\u001b[39m(X_test_tok_pt, y_test_pt),  \n\u001b[1;32m      5\u001b[0m     epochs\u001b[38;5;241m=\u001b[39m\u001b[38;5;241m15\u001b[39m,\n\u001b[1;32m      6\u001b[0m     batch_size\u001b[38;5;241m=\u001b[39m\u001b[38;5;241m20\u001b[39m,\n\u001b[1;32m      7\u001b[0m     callbacks\u001b[38;5;241m=\u001b[39m[callbacklr]\n\u001b[1;32m      8\u001b[0m )\n",
      "File \u001b[0;32m~/anaconda3/lib/python3.11/site-packages/keras/src/utils/traceback_utils.py:122\u001b[0m, in \u001b[0;36mfilter_traceback.<locals>.error_handler\u001b[0;34m(*args, **kwargs)\u001b[0m\n\u001b[1;32m    119\u001b[0m     filtered_tb \u001b[38;5;241m=\u001b[39m _process_traceback_frames(e\u001b[38;5;241m.\u001b[39m__traceback__)\n\u001b[1;32m    120\u001b[0m     \u001b[38;5;66;03m# To get the full stack trace, call:\u001b[39;00m\n\u001b[1;32m    121\u001b[0m     \u001b[38;5;66;03m# `keras.config.disable_traceback_filtering()`\u001b[39;00m\n\u001b[0;32m--> 122\u001b[0m     \u001b[38;5;28;01mraise\u001b[39;00m e\u001b[38;5;241m.\u001b[39mwith_traceback(filtered_tb) \u001b[38;5;28;01mfrom\u001b[39;00m \u001b[38;5;28;01mNone\u001b[39;00m\n\u001b[1;32m    123\u001b[0m \u001b[38;5;28;01mfinally\u001b[39;00m:\n\u001b[1;32m    124\u001b[0m     \u001b[38;5;28;01mdel\u001b[39;00m filtered_tb\n",
      "File \u001b[0;32m~/anaconda3/lib/python3.11/site-packages/keras/src/layers/input_spec.py:245\u001b[0m, in \u001b[0;36massert_input_compatibility\u001b[0;34m(input_spec, inputs, layer_name)\u001b[0m\n\u001b[1;32m    243\u001b[0m \u001b[38;5;28;01mif\u001b[39;00m spec_dim \u001b[38;5;129;01mis\u001b[39;00m \u001b[38;5;129;01mnot\u001b[39;00m \u001b[38;5;28;01mNone\u001b[39;00m \u001b[38;5;129;01mand\u001b[39;00m dim \u001b[38;5;129;01mis\u001b[39;00m \u001b[38;5;129;01mnot\u001b[39;00m \u001b[38;5;28;01mNone\u001b[39;00m:\n\u001b[1;32m    244\u001b[0m     \u001b[38;5;28;01mif\u001b[39;00m spec_dim \u001b[38;5;241m!=\u001b[39m dim:\n\u001b[0;32m--> 245\u001b[0m         \u001b[38;5;28;01mraise\u001b[39;00m \u001b[38;5;167;01mValueError\u001b[39;00m(\n\u001b[1;32m    246\u001b[0m             \u001b[38;5;124mf\u001b[39m\u001b[38;5;124m'\u001b[39m\u001b[38;5;124mInput \u001b[39m\u001b[38;5;132;01m{\u001b[39;00minput_index\u001b[38;5;132;01m}\u001b[39;00m\u001b[38;5;124m of layer \u001b[39m\u001b[38;5;124m\"\u001b[39m\u001b[38;5;132;01m{\u001b[39;00mlayer_name\u001b[38;5;132;01m}\u001b[39;00m\u001b[38;5;124m\"\u001b[39m\u001b[38;5;124m is \u001b[39m\u001b[38;5;124m'\u001b[39m\n\u001b[1;32m    247\u001b[0m             \u001b[38;5;124m\"\u001b[39m\u001b[38;5;124mincompatible with the layer: \u001b[39m\u001b[38;5;124m\"\u001b[39m\n\u001b[1;32m    248\u001b[0m             \u001b[38;5;124mf\u001b[39m\u001b[38;5;124m\"\u001b[39m\u001b[38;5;124mexpected shape=\u001b[39m\u001b[38;5;132;01m{\u001b[39;00mspec\u001b[38;5;241m.\u001b[39mshape\u001b[38;5;132;01m}\u001b[39;00m\u001b[38;5;124m, \u001b[39m\u001b[38;5;124m\"\u001b[39m\n\u001b[1;32m    249\u001b[0m             \u001b[38;5;124mf\u001b[39m\u001b[38;5;124m\"\u001b[39m\u001b[38;5;124mfound shape=\u001b[39m\u001b[38;5;132;01m{\u001b[39;00mshape\u001b[38;5;132;01m}\u001b[39;00m\u001b[38;5;124m\"\u001b[39m\n\u001b[1;32m    250\u001b[0m         )\n",
      "\u001b[0;31mValueError\u001b[0m: Input 0 of layer \"functional_5\" is incompatible with the layer: expected shape=(None, 305), found shape=(20, 309)"
     ]
    }
   ],
   "source": [
    "# Treinar o modelo\n",
    "historyB = modelB.fit(\n",
    "    X_train_tok_pt, y_train_pt,  \n",
    "    validation_data=(X_test_tok_pt, y_test_pt),  \n",
    "    epochs=15,\n",
    "    batch_size=20,\n",
    "    callbacks=[callbacklr]\n",
    ")"
   ]
  },
  {
   "cell_type": "markdown",
   "metadata": {
    "id": "odoVvi5OVYkL"
   },
   "source": [
    "---\n",
    "\n",
    "### 3. (2,0 pt) Avaliação dos modelos: métricas durante treinamento e avaliação das métricas no conjunto de teste de ambos os modelos"
   ]
  },
  {
   "cell_type": "code",
   "execution_count": null,
   "metadata": {
    "id": "Jqqvk1G1n0ev"
   },
   "outputs": [
    {
     "data": {
      "image/png": "[encoded data removed]",
      "text/plain": [
       "<Figure size 1400x500 with 2 Axes>"
      ]
     },
     "metadata": {},
     "output_type": "display_data"
    },
    {
     "data": {
      "image/png": "[encoded data removed]",
      "text/plain": [
       "<Figure size 1400x500 with 2 Axes>"
      ]
     },
     "metadata": {},
     "output_type": "display_data"
    }
   ],
   "source": [
    "## plot métricas durante treinamento dos modelos A e B\n",
    "# Função para exibir gráficos de métricas durante o treinamento\n",
    "def plot_training_metrics(history, model_name):\n",
    "    import matplotlib.pyplot as plt\n",
    "\n",
    "    plt.figure(figsize=(14, 5))\n",
    "\n",
    "    # Plotar AUC\n",
    "    plt.subplot(1, 2, 1)\n",
    "    plt.plot(history.history['auc'], label='Train AUC')\n",
    "    plt.plot(history.history['val_auc'], label='Validation AUC')\n",
    "    plt.title(f'{model_name} - AUC Over Epochs')\n",
    "    plt.xlabel('Epochs')\n",
    "    plt.ylabel('AUC')\n",
    "    plt.legend()\n",
    "\n",
    "    # Plotar Accuracy\n",
    "    plt.subplot(1, 2, 2)\n",
    "    plt.plot(history.history['accuracy'], label='Train Accuracy')\n",
    "    plt.plot(history.history['val_accuracy'], label='Validation Accuracy')\n",
    "    plt.title(f'{model_name} - Accuracy Over Epochs')\n",
    "    plt.xlabel('Epochs')\n",
    "    plt.ylabel('Accuracy')\n",
    "    plt.legend()\n",
    "\n",
    "    plt.tight_layout()\n",
    "    plt.show()\n",
    "\n",
    "# Exibir métricas de treinamento para os Modelos A e B\n",
    "plot_training_metrics(historyA, \"Modelo A\")\n",
    "plot_training_metrics(historyB, \"Modelo B\")\n"
   ]
  },
  {
   "cell_type": "code",
   "execution_count": null,
   "metadata": {
    "id": "bltDvl7TFesC"
   },
   "outputs": [
    {
     "name": "stdout",
     "output_type": "stream",
     "text": [
      "\u001b[1m94/94\u001b[0m \u001b[32m━━━━━━━━━━━━━━━━━━━━\u001b[0m\u001b[37m\u001b[0m \u001b[1m0s\u001b[0m 1ms/step\n",
      "Modelo A - Test Set Metrics:\n",
      "ROC AUC: 0.8610\n",
      "Accuracy: 0.7817\n"
     ]
    },
    {
     "ename": "ValueError",
     "evalue": "Input 0 of layer \"functional_8\" is incompatible with the layer: expected shape=(None, 768), found shape=(32, 305)",
     "output_type": "error",
     "traceback": [
      "\u001b[0;31m---------------------------------------------------------------------------\u001b[0m",
      "\u001b[0;31mValueError\u001b[0m                                Traceback (most recent call last)",
      "Cell \u001b[0;32mIn[28], line 18\u001b[0m\n\u001b[1;32m     16\u001b[0m \u001b[38;5;66;03m# Avaliar os modelos no conjunto de teste\u001b[39;00m\n\u001b[1;32m     17\u001b[0m auc_a, acc_a \u001b[38;5;241m=\u001b[39m evaluate_model(modelA, X_test_pt_embeddings, y_test_pt, \u001b[38;5;124m\"\u001b[39m\u001b[38;5;124mModelo A\u001b[39m\u001b[38;5;124m\"\u001b[39m)\n\u001b[0;32m---> 18\u001b[0m auc_b, acc_b \u001b[38;5;241m=\u001b[39m evaluate_model(model, X_test_tok_pt, y_test_pt, \u001b[38;5;124m\"\u001b[39m\u001b[38;5;124mModelo B\u001b[39m\u001b[38;5;124m\"\u001b[39m)\n\u001b[1;32m     20\u001b[0m \u001b[38;5;66;03m# Comparação dos resultados\u001b[39;00m\n\u001b[1;32m     21\u001b[0m results \u001b[38;5;241m=\u001b[39m {\n\u001b[1;32m     22\u001b[0m     \u001b[38;5;124m\"\u001b[39m\u001b[38;5;124mModelo\u001b[39m\u001b[38;5;124m\"\u001b[39m: [\u001b[38;5;124m\"\u001b[39m\u001b[38;5;124mModelo A\u001b[39m\u001b[38;5;124m\"\u001b[39m, \u001b[38;5;124m\"\u001b[39m\u001b[38;5;124mModelo B\u001b[39m\u001b[38;5;124m\"\u001b[39m],\n\u001b[1;32m     23\u001b[0m     \u001b[38;5;124m\"\u001b[39m\u001b[38;5;124mTest ROC AUC\u001b[39m\u001b[38;5;124m\"\u001b[39m: [auc_a, auc_b],\n\u001b[1;32m     24\u001b[0m     \u001b[38;5;124m\"\u001b[39m\u001b[38;5;124mTest Accuracy\u001b[39m\u001b[38;5;124m\"\u001b[39m: [acc_a, acc_b]\n\u001b[1;32m     25\u001b[0m }\n",
      "Cell \u001b[0;32mIn[28], line 7\u001b[0m, in \u001b[0;36mevaluate_model\u001b[0;34m(model, X_test, y_test, model_name)\u001b[0m\n\u001b[1;32m      4\u001b[0m \u001b[38;5;28;01mdef\u001b[39;00m \u001b[38;5;21mevaluate_model\u001b[39m(model, X_test, y_test, model_name):\n\u001b[1;32m      5\u001b[0m     \u001b[38;5;28;01mfrom\u001b[39;00m \u001b[38;5;21;01msklearn\u001b[39;00m\u001b[38;5;21;01m.\u001b[39;00m\u001b[38;5;21;01mmetrics\u001b[39;00m \u001b[38;5;28;01mimport\u001b[39;00m roc_auc_score, accuracy_score\n\u001b[0;32m----> 7\u001b[0m     predictions \u001b[38;5;241m=\u001b[39m model\u001b[38;5;241m.\u001b[39mpredict(X_test)\n\u001b[1;32m      8\u001b[0m     auc \u001b[38;5;241m=\u001b[39m roc_auc_score(y_test, predictions)\n\u001b[1;32m      9\u001b[0m     accuracy \u001b[38;5;241m=\u001b[39m accuracy_score(y_test, (predictions \u001b[38;5;241m>\u001b[39m \u001b[38;5;241m0.5\u001b[39m)\u001b[38;5;241m.\u001b[39mastype(\u001b[38;5;28mint\u001b[39m))\n",
      "File \u001b[0;32m~/anaconda3/lib/python3.11/site-packages/keras/src/utils/traceback_utils.py:122\u001b[0m, in \u001b[0;36mfilter_traceback.<locals>.error_handler\u001b[0;34m(*args, **kwargs)\u001b[0m\n\u001b[1;32m    119\u001b[0m     filtered_tb \u001b[38;5;241m=\u001b[39m _process_traceback_frames(e\u001b[38;5;241m.\u001b[39m__traceback__)\n\u001b[1;32m    120\u001b[0m     \u001b[38;5;66;03m# To get the full stack trace, call:\u001b[39;00m\n\u001b[1;32m    121\u001b[0m     \u001b[38;5;66;03m# `keras.config.disable_traceback_filtering()`\u001b[39;00m\n\u001b[0;32m--> 122\u001b[0m     \u001b[38;5;28;01mraise\u001b[39;00m e\u001b[38;5;241m.\u001b[39mwith_traceback(filtered_tb) \u001b[38;5;28;01mfrom\u001b[39;00m \u001b[38;5;28;01mNone\u001b[39;00m\n\u001b[1;32m    123\u001b[0m \u001b[38;5;28;01mfinally\u001b[39;00m:\n\u001b[1;32m    124\u001b[0m     \u001b[38;5;28;01mdel\u001b[39;00m filtered_tb\n",
      "File \u001b[0;32m~/anaconda3/lib/python3.11/site-packages/keras/src/layers/input_spec.py:245\u001b[0m, in \u001b[0;36massert_input_compatibility\u001b[0;34m(input_spec, inputs, layer_name)\u001b[0m\n\u001b[1;32m    243\u001b[0m \u001b[38;5;28;01mif\u001b[39;00m spec_dim \u001b[38;5;129;01mis\u001b[39;00m \u001b[38;5;129;01mnot\u001b[39;00m \u001b[38;5;28;01mNone\u001b[39;00m \u001b[38;5;129;01mand\u001b[39;00m dim \u001b[38;5;129;01mis\u001b[39;00m \u001b[38;5;129;01mnot\u001b[39;00m \u001b[38;5;28;01mNone\u001b[39;00m:\n\u001b[1;32m    244\u001b[0m     \u001b[38;5;28;01mif\u001b[39;00m spec_dim \u001b[38;5;241m!=\u001b[39m dim:\n\u001b[0;32m--> 245\u001b[0m         \u001b[38;5;28;01mraise\u001b[39;00m \u001b[38;5;167;01mValueError\u001b[39;00m(\n\u001b[1;32m    246\u001b[0m             \u001b[38;5;124mf\u001b[39m\u001b[38;5;124m'\u001b[39m\u001b[38;5;124mInput \u001b[39m\u001b[38;5;132;01m{\u001b[39;00minput_index\u001b[38;5;132;01m}\u001b[39;00m\u001b[38;5;124m of layer \u001b[39m\u001b[38;5;124m\"\u001b[39m\u001b[38;5;132;01m{\u001b[39;00mlayer_name\u001b[38;5;132;01m}\u001b[39;00m\u001b[38;5;124m\"\u001b[39m\u001b[38;5;124m is \u001b[39m\u001b[38;5;124m'\u001b[39m\n\u001b[1;32m    247\u001b[0m             \u001b[38;5;124m\"\u001b[39m\u001b[38;5;124mincompatible with the layer: \u001b[39m\u001b[38;5;124m\"\u001b[39m\n\u001b[1;32m    248\u001b[0m             \u001b[38;5;124mf\u001b[39m\u001b[38;5;124m\"\u001b[39m\u001b[38;5;124mexpected shape=\u001b[39m\u001b[38;5;132;01m{\u001b[39;00mspec\u001b[38;5;241m.\u001b[39mshape\u001b[38;5;132;01m}\u001b[39;00m\u001b[38;5;124m, \u001b[39m\u001b[38;5;124m\"\u001b[39m\n\u001b[1;32m    249\u001b[0m             \u001b[38;5;124mf\u001b[39m\u001b[38;5;124m\"\u001b[39m\u001b[38;5;124mfound shape=\u001b[39m\u001b[38;5;132;01m{\u001b[39;00mshape\u001b[38;5;132;01m}\u001b[39;00m\u001b[38;5;124m\"\u001b[39m\n\u001b[1;32m    250\u001b[0m         )\n",
      "\u001b[0;31mValueError\u001b[0m: Input 0 of layer \"functional_8\" is incompatible with the layer: expected shape=(None, 768), found shape=(32, 305)"
     ]
    }
   ],
   "source": [
    "## avaliacao no conjunto de teste dos modelos A e B treinados\n",
    "# exibir os valores obtidos\n",
    "# Função para calcular métricas no conjunto de teste\n",
    "def evaluate_model(model, X_test, y_test, model_name):\n",
    "    from sklearn.metrics import roc_auc_score, accuracy_score\n",
    "\n",
    "    predictions = model.predict(X_test)\n",
    "    auc = roc_auc_score(y_test, predictions)\n",
    "    accuracy = accuracy_score(y_test, (predictions > 0.5).astype(int))\n",
    "\n",
    "    print(f\"{model_name} - Test Set Metrics:\")\n",
    "    print(f\"ROC AUC: {auc:.4f}\")\n",
    "    print(f\"Accuracy: {accuracy:.4f}\")\n",
    "    return auc, accuracy\n",
    "\n",
    "# Avaliar os modelos no conjunto de teste\n",
    "auc_a, acc_a = evaluate_model(modelA, X_test_pt_embeddings, y_test_pt, \"Modelo A\")\n",
    "auc_b, acc_b = evaluate_model(modelB, X_test_tok_pt, y_test_pt, \"Modelo B\")\n",
    "\n",
    "# Comparação dos resultados\n",
    "results = {\n",
    "    \"Modelo\": [\"Modelo A\", \"Modelo B\"],\n",
    "    \"Test ROC AUC\": [auc_a, auc_b],\n",
    "    \"Test Accuracy\": [acc_a, acc_b]\n",
    "}\n",
    "\n",
    "results_df = pd.DataFrame(results)\n",
    "print(results_df)"
   ]
  },
  {
   "cell_type": "markdown",
   "metadata": {
    "id": "mRMkUu-MaMRg"
   },
   "source": [
    "### 3.1 (2,0 pt) Escreva conclusões sobre a comparação entre os modelos A e B em termos:\n",
    "- das métricas computadas ao longo do treinamento\n",
    "- conclua sobre os resultados da generalização dos modelos e relacione esse resultado com a arquitetura de cada modelo (camadas utilizadas e número de parâmetros).\n",
    "\n",
    "Escreva apenas um parágrafo para cada um dos items acima. As conclusões devem fazer sentido com relação aos resultados obtidos no seu notebook."
   ]
  },
  {
   "cell_type": "markdown",
   "metadata": {
    "id": "zXT6B2A3cV4V"
   },
   "source": [
    "< suas conclusões aqui >\n",
    "- **Métricas de treinamento**:\n",
    "- **Generalização e arquitetura**:"
   ]
  },
  {
   "cell_type": "markdown",
   "metadata": {
    "id": "dGqJ2dCFVYkM",
    "scrolled": false
   },
   "source": [
    "---\n",
    "\n",
    "### 4. (3,0 pt) Fine-tuning do Modelo B usando os dados em **ingles**\n",
    "\n",
    "O modelo foi treinado com dados em português e agora queremos realizar transferência de aprendizado, realizando ajuste fino dos parâmetros para que possa classificar texto em inglês.\n",
    "\n",
    "Serão feitos dois experimentos, ambos a partir dos pesos do modelo B, usando os tokens extraídos dos textos em ingles:\n",
    "\n",
    "1. Modelo B FT v1: congele a camada de embedding (ou seja setando essa camada como `trainable=False`), e permita que todas as demais possam se adaptar.\n",
    "2. Modelo B FT v2: congele apenas a camada convolucional e a camada LSTM, e permita que todas as demais (inclusive a camada de embedding, anterior a essas) possam se adaptar.\n",
    "\n",
    "Após o treinamento compare ambos modelos exibindo:\n",
    "- um gráfico com a loss ao longo do treinamento\n",
    "- um gráfico com as métricas obtidas ao longo do treinamento\n",
    "- as métricas (numéricas) obtidas no conjunto de teste"
   ]
  },
  {
   "cell_type": "code",
   "execution_count": null,
   "metadata": {
    "id": "dHJbCRsWD826"
   },
   "outputs": [],
   "source": [
    "## Experimentos de Fine-tuning do Modelo B"
   ]
  },
  {
   "cell_type": "code",
   "execution_count": null,
   "metadata": {
    "id": "lLy290LZCiFG"
   },
   "outputs": [],
   "source": [
    "# Cria novo modelo copiando a arquitetura e pesos anteriores\n",
    "# ajusta camadas a serem treinadas ou congeladas\n",
    "# realizar finetuning com learning rate fixo = 0.0001"
   ]
  },
  {
   "cell_type": "code",
   "execution_count": null,
   "metadata": {
    "id": "0DbB7WLjUtVf"
   },
   "outputs": [],
   "source": [
    "# visualiza loss de treinamento dos modelos"
   ]
  },
  {
   "cell_type": "code",
   "execution_count": null,
   "metadata": {
    "id": "jZ8NVWcKV-KY"
   },
   "outputs": [],
   "source": [
    "# visualiza métricas de treinamento dos modelos"
   ]
  },
  {
   "cell_type": "code",
   "execution_count": null,
   "metadata": {
    "id": "GZXh5N9zCsn4"
   },
   "outputs": [],
   "source": [
    "# avaliacao e comparacao com dados de teste"
   ]
  },
  {
   "cell_type": "markdown",
   "metadata": {
    "id": "ti99EwmBY8tc"
   },
   "source": [
    "#### 5.1 (1,0 pt) Conclusões sobre o Fine-tuning realizado\n",
    "\n",
    "Conclua sobre o fine-tuning realizado, comparando os dois modelos abordando:\n",
    "- a loss e métricas computadas ao longo do treinamento para cada modelo\n",
    "- as métricas obtidas com os dados de teste\n",
    "- compare os modelos em termos de sua capacidade de generalização, indicando as razões de terem generalizado melhor ou pior.\n",
    "\n",
    "As conclusões devem fazer sentido com relação aos resultados obtidos no seu notebook. Escreva um ou dois parágrafos com suas conclusões.\n",
    "\n",
    "_< suas conclusões >_"
   ]
  },
  {
   "cell_type": "markdown",
   "metadata": {
    "id": "ZkbF9yq8VYkN"
   },
   "source": [
    "---\n",
    "## Bônus (+1pt)\n",
    "\n",
    "### Análise visual e conclusões\n",
    "\n",
    "A partir dos espaços de características dos dados de teste usando tSNE em duas dimensões:\n",
    "\n",
    "a. Espaço embedding original dos dados de teste em portugues,<br>\n",
    "b. Espaço embedding Modelo B dos dados de teste em português,<br>\n",
    "c. Espaço embedding Modelo B ajustado para inglês (segunda versão do finetuning) dos dados de teste em ingles.\n",
    "\n",
    "Tarefas:\n",
    "1. Plote os espaços projetados em 2D pelo TNSE usando os parametros definidos no exemplo abaixo. Utilize cores e/ou formatos de pontos no gráfico de forma a diferenciar os pontos de cada classe.\n",
    "\n",
    "2. Escreva um parágrafo com conclusões sobre essa análise visual do espaço embedding/características aprendidas. As conclusões tem que fazer sentido com os plots exibidos.\n",
    "\n",
    "_<suas conclusões>_"
   ]
  },
  {
   "cell_type": "code",
   "execution_count": null,
   "metadata": {
    "id": "qsGtSQLVVYkN"
   },
   "outputs": [],
   "source": [
    "from sklearn.manifold import TSNE\n",
    "\n",
    "#parametros TSNE\n",
    "#TSNE(n_components=2, learning_rate='auto', init='pca', perplexity=6)"
   ]
  },
  {
   "cell_type": "code",
   "execution_count": null,
   "metadata": {
    "id": "9OV4ec6GVYkQ"
   },
   "outputs": [],
   "source": [
    "# plot dos espaços em 2D"
   ]
  }
 ],
 "metadata": {
  "accelerator": "GPU",
  "colab": {
   "provenance": []
  },
  "kernelspec": {
   "display_name": "base",
   "language": "python",
   "name": "python3"
  },
  "language_info": {
   "codemirror_mode": {
    "name": "ipython",
    "version": 3
   },
   "file_extension": ".py",
   "mimetype": "text/x-python",
   "name": "python",
   "nbconvert_exporter": "python",
   "pygments_lexer": "ipython3",
   "version": "3.11.5"
  }
 },
 "nbformat": 4,
 "nbformat_minor": 0
}
